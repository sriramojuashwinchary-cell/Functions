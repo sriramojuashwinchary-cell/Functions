{
  "nbformat": 4,
  "nbformat_minor": 0,
  "metadata": {
    "colab": {
      "provenance": []
    },
    "kernelspec": {
      "name": "python3",
      "display_name": "Python 3"
    },
    "language_info": {
      "name": "python"
    }
  },
  "cells": [
    {
      "cell_type": "markdown",
      "source": [
        "# FUNCTION\n"
      ],
      "metadata": {
        "id": "I-qnAeiNZ8dB"
      }
    },
    {
      "cell_type": "markdown",
      "source": [
        "# 1.What is the different between a function and a method in python?\n",
        "\n",
        ". In Python, both functions and methods are blocks of reusable code, but their key distinction lies in their association with classes and objects.\n",
        "\n",
        "Function:\n",
        "\n",
        ". A function is a standalone block of code defined independently, not within a class.\n",
        "\n",
        ".It is called y its name and can be passed arguments.\n",
        "\n",
        ".Functions are generally used for general-purpose tasks and operate independently of any specific object's state."
      ],
      "metadata": {
        "id": "_Qhu2migaD5c"
      }
    },
    {
      "cell_type": "code",
      "execution_count": 1,
      "metadata": {
        "colab": {
          "base_uri": "https://localhost:8080/"
        },
        "id": "27AfAm_LZ11I",
        "outputId": "cb5e5405-67db-4f75-927e-b4c4b37ebf9f"
      },
      "outputs": [
        {
          "output_type": "stream",
          "name": "stdout",
          "text": [
            "Hello, Alice!\n"
          ]
        }
      ],
      "source": [
        "def greet(name):\n",
        "    return f\"Hello, {name}!\"\n",
        "\n",
        "message = greet(\"Alice\")\n",
        "print(message)"
      ]
    },
    {
      "cell_type": "markdown",
      "source": [
        "Method:\n",
        "\n",
        "A method is a function that is defined inside a class and is associated with objects of that class.\n",
        "\n",
        "It is called on an instance of a class (an object).\n",
        "\n",
        "Methods implicitly receive the object itself as the first argument, conventionally named self, allowing them to access and modify the object's attributes (data).\n",
        "\n",
        "Methods encapsulate behavior specific to the object and can alter the object's state."
      ],
      "metadata": {
        "id": "RUfowJg-bx1A"
      }
    },
    {
      "cell_type": "code",
      "source": [
        "class Dog:\n",
        "    def __init__(self, name, breed):\n",
        "        self.name = name\n",
        "        self.breed = breed\n",
        "\n",
        "    def bark(self):  # This is a method\n",
        "        return f\"{self.name} says Woof!\"\n",
        "\n",
        "my_dog = Dog(\"Buddy\", \"Golden Retriever\")\n",
        "print(my_dog.bark())"
      ],
      "metadata": {
        "colab": {
          "base_uri": "https://localhost:8080/"
        },
        "id": "-sxiuXrQb5fv",
        "outputId": "5b310fe6-4aa6-488b-c69c-5b9a6a078637"
      },
      "execution_count": 2,
      "outputs": [
        {
          "output_type": "stream",
          "name": "stdout",
          "text": [
            "Buddy says Woof!\n"
          ]
        }
      ]
    },
    {
      "cell_type": "markdown",
      "source": [
        "# 2. Explain the concept of function  arguments and parameters in python?\n",
        "\n",
        ".In Python, the terms \"parameters\" and \"arguments\" are distinct concepts related to functions, although they are often used interchangeably in casual conversation.\n",
        "\n",
        "Parameters:\n",
        "\n",
        ".Parameters are the variable names listed inside the parentheses in a function's definition.\n",
        "\n",
        ".They act as placeholders for the values that a function expects to receive when it is called.\n",
        "\n",
        ".Parameters define the inputs a function can accept and their expected types (though Python is dynamically typed, so type hints are often used for clarity).\n"
      ],
      "metadata": {
        "id": "ISwQONusb-d_"
      }
    },
    {
      "cell_type": "code",
      "source": [
        "def greet(name, message=\"Hello\"):  # 'name' and 'message' are parameters\n",
        "    print(f\"{message}, {name}!\")"
      ],
      "metadata": {
        "id": "-ZJx-hD3c1mt"
      },
      "execution_count": 3,
      "outputs": []
    },
    {
      "cell_type": "markdown",
      "source": [
        "Arguments:\n",
        "\n",
        "Arguments are the actual values passed to a function when it is called.\n",
        "\n",
        "These values are assigned to the corresponding parameters within the function's scope during execution."
      ],
      "metadata": {
        "id": "MD12DyONc56r"
      }
    },
    {
      "cell_type": "code",
      "source": [
        "greet(\"Alice\")  # \"Alice\" is an argument passed to the 'name' parameter\n",
        "greet(\"Bob\", \"Good morning\")  # \"Bob\" and \"Good morning\" are arguments"
      ],
      "metadata": {
        "colab": {
          "base_uri": "https://localhost:8080/"
        },
        "id": "VWM1hoJEdA8z",
        "outputId": "f3fe6cb1-60e3-4a1a-cee8-c30781623af6"
      },
      "execution_count": 4,
      "outputs": [
        {
          "output_type": "stream",
          "name": "stdout",
          "text": [
            "Hello, Alice!\n",
            "Good morning, Bob!\n"
          ]
        }
      ]
    },
    {
      "cell_type": "markdown",
      "source": [
        "# 3. what are the different ways to define and call a function in python?\n",
        "\n",
        ".Defining a Function in Python:\n",
        "\n",
        "Functions in Python are defined using the def keyword.\n",
        "\n",
        "def keyword: Initiates the function definition.\n",
        "function_name: A descriptive name following Python's naming conventions .\n",
        "\n",
        "parameters : Input values the function accepts, enclosed in parentheses and separated by commas.\n",
        "\n",
        "Colon :: Marks the end of the function header.\n",
        "Indented code block: The function's body, containing the code to be executed when the function is called.\n",
        "\n",
        "return statement: Specifies the value the function sends back to the caller. If omitted, the function implicitly returns None\n",
        "\n"
      ],
      "metadata": {
        "id": "rZEvKMM3dIla"
      }
    },
    {
      "cell_type": "code",
      "source": [
        "def function_name(parameter1, parameter2):\n",
        "    \"\"\"Docstring: Optional documentation for the function.\"\"\"\n",
        "    # Function body - indented code block\n",
        "    # ...\n",
        "    return result # Optional: returns a value"
      ],
      "metadata": {
        "id": "_yjTj8_ubUA7"
      },
      "execution_count": 6,
      "outputs": []
    },
    {
      "cell_type": "markdown",
      "source": [
        "Calling a Function in Python\n",
        "\n",
        "Once defined, a function is executed by \"calling\" it.\n",
        "\n",
        "Key aspects of calling:\n",
        "\n",
        "function_name: The name of the function to be executed.\n",
        "\n",
        "Parentheses (): Essential for indicating a function call.\n",
        "\n",
        "arguments : Actual values passed to the function, corresponding to its parameters. These can be passed in various ways:\n",
        "\n",
        "\n",
        "Positional arguments: Passed in the order they are defined in the function signature."
      ],
      "metadata": {
        "id": "--5jTAzgbhfe"
      }
    },
    {
      "cell_type": "code",
      "source": [
        "        def greet(name, message):\n",
        "            print(f\"{message}, {name}!\")\n",
        "\n",
        "        greet(\"Alice\", \"Hello\") # Output: Hello, Alice!"
      ],
      "metadata": {
        "colab": {
          "base_uri": "https://localhost:8080/"
        },
        "id": "DA19pCQSbhKm",
        "outputId": "cc2c15c4-80bc-4b6b-b131-93fecb8cafe3"
      },
      "execution_count": 7,
      "outputs": [
        {
          "output_type": "stream",
          "name": "stdout",
          "text": [
            "Hello, Alice!\n"
          ]
        }
      ]
    },
    {
      "cell_type": "markdown",
      "source": [
        ". Keyword arguments: Passed by explicitly naming the parameter. This allows for flexible order."
      ],
      "metadata": {
        "id": "C7pszu-IcFgJ"
      }
    },
    {
      "cell_type": "code",
      "source": [
        "        def greet(name, message):\n",
        "            print(f\"{message}, {name}!\")\n",
        "\n",
        "        greet(message=\"Hi\", name=\"Bob\") # Output: Hi, Bob!"
      ],
      "metadata": {
        "colab": {
          "base_uri": "https://localhost:8080/"
        },
        "id": "TdL9fkVycJxf",
        "outputId": "08280c48-2a0b-4fcb-aeec-fa8f2e3c0657"
      },
      "execution_count": 8,
      "outputs": [
        {
          "output_type": "stream",
          "name": "stdout",
          "text": [
            "Hi, Bob!\n"
          ]
        }
      ]
    },
    {
      "cell_type": "markdown",
      "source": [
        ".Default arguments: Parameters with pre-assigned values in the function definition. If not provided during the call, the default value is used."
      ],
      "metadata": {
        "id": "VL2dWz1acTP9"
      }
    },
    {
      "cell_type": "code",
      "source": [
        "        def greet(name, message=\"Hello\"):\n",
        "            print(f\"{message}, {name}!\")\n",
        "\n",
        "        greet(\"Charlie\") # Output: Hello, Charlie!\n",
        "        greet(\"David\", \"Greetings\") # Output: Greetings, David!"
      ],
      "metadata": {
        "colab": {
          "base_uri": "https://localhost:8080/"
        },
        "id": "9mEuQgi5cVbF",
        "outputId": "006cb964-b914-4abd-f29e-2ae5e93711f1"
      },
      "execution_count": 9,
      "outputs": [
        {
          "output_type": "stream",
          "name": "stdout",
          "text": [
            "Hello, Charlie!\n",
            "Greetings, David!\n"
          ]
        }
      ]
    },
    {
      "cell_type": "markdown",
      "source": [
        ". Arbitrary arguments (*args and `: kwargs`):** Allow a function to accept a variable number of positional or keyword arguments, respectively.\n",
        "Python\n",
        "\n"
      ],
      "metadata": {
        "id": "I5UavJFIcbqM"
      }
    },
    {
      "cell_type": "code",
      "source": [
        "        def sum_numbers(*args):\n",
        "            return sum(args)\n",
        "\n",
        "        print(sum_numbers(1, 2, 3)) # Output: 6\n",
        "\n",
        "        def print_info(**kwargs):\n",
        "            for key, value in kwargs.items():\n",
        "                print(f\"{key}: {value}\")\n",
        "\n",
        "        print_info(name=\"Eve\", age=30) # Output: name: Eve, age: 30"
      ],
      "metadata": {
        "colab": {
          "base_uri": "https://localhost:8080/"
        },
        "id": "VLNaW5kyca8k",
        "outputId": "622f0479-2c05-48b7-eb1a-c92678f3927c"
      },
      "execution_count": 10,
      "outputs": [
        {
          "output_type": "stream",
          "name": "stdout",
          "text": [
            "6\n",
            "name: Eve\n",
            "age: 30\n"
          ]
        }
      ]
    },
    {
      "cell_type": "markdown",
      "source": [
        "# 4.what is the purpose of the 'return' statement in a python function?\n",
        "\n",
        ".The return statement in a Python function serves two primary purposes:\n",
        "\n",
        "Exiting the function: When a return statement is encountered within a function, the function's execution immediately terminates. Control is then passed back to the point in the code where the function was called. Any code written after the return statement within that function will not be executed.\n",
        "\n",
        "Returning a value: The return statement allows a function to send a value  back to the caller. This returned value can be stored in a variable, used in an expression, or passed as an argument to another function. If no value is specified with the return statement, or if the return statement is omitted entirely, the function implicitly returns None"
      ],
      "metadata": {
        "id": "Ngn3cStkchcb"
      }
    },
    {
      "cell_type": "code",
      "source": [
        "def add_numbers(a, b):\n",
        "    sum_result = a + b\n",
        "    return sum_result # Returns the calculated sum\n",
        "\n",
        "def greet(name):\n",
        "    print(f\"Hello, {name}!\")\n",
        "    # No explicit return, so it implicitly returns None\n",
        "\n",
        "result = add_numbers(5, 3)\n",
        "print(result) # Output: 8\n",
        "\n",
        "greet(\"Alice\") # Output: Hello, Alice!\n",
        "print(greet(\"Bob\")) # Output: Hello, Bob! (and then None, because print(None) happens)"
      ],
      "metadata": {
        "colab": {
          "base_uri": "https://localhost:8080/"
        },
        "id": "FUniFUk9el1_",
        "outputId": "910cbff0-003d-4bdf-9a98-3d30831438e6"
      },
      "execution_count": 11,
      "outputs": [
        {
          "output_type": "stream",
          "name": "stdout",
          "text": [
            "8\n",
            "Hello, Alice!\n",
            "Hello, Bob!\n",
            "None\n"
          ]
        }
      ]
    },
    {
      "cell_type": "markdown",
      "source": [
        "# 5. what are iterators in python and how do they differ from iterables?\n",
        "\n",
        ". In Python, iterators are objects that implement the iterator protocol, which consists of the __iter__() and __next__() methods.\n",
        "\n",
        "  An iterator provides a way to access elements of a container one by one, keeping track of the current position during iteration.\n",
        "\n",
        " . The __iter__() method returns the iterator object itself.\n",
        "  .The __next__() method returns the next item from the sequence.\n",
        "\n",
        ".When there are no more items, it raises a StopIteration exception.\n",
        "\n",
        ".Iterables, on the other hand, are objects that can be iterated over. This means they can return an iterator when passed to the built-in iter() function. Common examples of iterables include lists, tuples, strings, and dictionaries.\n",
        "\n",
        "Key Differences:\n",
        "\n",
        "Protocol Implementation:\n",
        "\n",
        ".Iterators: implement both __iter__() and __next__().\n",
        ".Iterables: primarily implement __iter__(), which returns an iterator object.\n",
        "State Management:\n",
        "\n",
        ".Iterators: maintain an internal state to keep track of the current position and the next element to be returned.\n",
        "\n",
        ".Iterables: do not inherently manage iteration state; they are simply containers that can produce an iterator.\n",
        "\n",
        "Direct Iteration:\n",
        "\n",
        ".You can directly call next() on an iterator to get the next element.\n",
        "You cannot directly call next() on an iterable; you must first obtain an iterator from it using iter().\n",
        "\n",
        "Relationship:\n",
        "\n",
        ".Every iterator is also an iterable because it implements __iter__() .\n",
        "\n",
        ".However, not every iterable is an iterator. For instance, a list is an iterable, but not an iterator itself. You get an iterator from the list when you use it in a for loop or call iter() on it."
      ],
      "metadata": {
        "id": "Tzb2xWXpep4l"
      }
    },
    {
      "cell_type": "code",
      "source": [
        "# Iterable (a list)\n",
        "my_list = [1, 2, 3]\n",
        "\n",
        "# Get an iterator from the iterable\n",
        "my_iterator = iter(my_list)\n",
        "\n",
        "# Use the iterator to get elements\n",
        "print(next(my_iterator))  # Output: 1\n",
        "print(next(my_iterator))  # Output: 2\n",
        "print(next(my_iterator))  # Output: 3\n",
        "\n",
        "# This will raise StopIteration\n",
        "# print(next(my_iterator))"
      ],
      "metadata": {
        "colab": {
          "base_uri": "https://localhost:8080/"
        },
        "id": "sBNioOtSgitH",
        "outputId": "a97e0e5f-4e61-4647-bca0-ca7ab709d51b"
      },
      "execution_count": 12,
      "outputs": [
        {
          "output_type": "stream",
          "name": "stdout",
          "text": [
            "1\n",
            "2\n",
            "3\n"
          ]
        }
      ]
    },
    {
      "cell_type": "markdown",
      "source": [
        "# 6. Explain the concept of generators in python and  how they are defined?\n",
        "\n",
        ". Generators in Python are a type of iterable, similar to lists or tuples, but with a key difference: they produce values one at a time, on demand, rather than storing all values in memory simultaneously. This \"lazy evaluation\" makes them highly memory-efficient, especially when dealing with large datasets or infinite sequences.\n",
        "\n",
        "How Generators are Defined:\n",
        "\n",
        "Generators are primarily defined in two ways:\n",
        "Generator Functions: These are functions that contain one or more yield statements instead of return statements. When a generator function is called, it does not execute the function body immediately; instead, it returns a generator object. The code within the function is executed only when a value is requested from this generator object (e.g., during iteration). Each time yield is encountered, the generator pauses, returns the yielded value, and saves its state. When the next value is requested, it resumes execution from where it left off.\n"
      ],
      "metadata": {
        "id": "oGUrxW86gmUm"
      }
    },
    {
      "cell_type": "code",
      "source": [
        "    def count_up_to(n):\n",
        "        i = 0\n",
        "        while i < n:\n",
        "            yield i\n",
        "            i += 1\n",
        "\n",
        "    # Using the generator function\n",
        "    my_generator = count_up_to(5)\n",
        "    for num in my_generator:\n",
        "        print(num)"
      ],
      "metadata": {
        "colab": {
          "base_uri": "https://localhost:8080/"
        },
        "id": "bzxvU6FskT17",
        "outputId": "3450fdd8-1c24-40b0-acb1-4505f6b3c573"
      },
      "execution_count": 13,
      "outputs": [
        {
          "output_type": "stream",
          "name": "stdout",
          "text": [
            "0\n",
            "1\n",
            "2\n",
            "3\n",
            "4\n"
          ]
        }
      ]
    },
    {
      "cell_type": "markdown",
      "source": [
        "Generator Expressions:\n",
        "\n",
        "These provide a concise way to create generators, similar to list comprehensions but using parentheses instead of square brackets. They are essentially a compact syntax for creating a simple generator without defining a full function"
      ],
      "metadata": {
        "id": "dBK5dp61kYnL"
      }
    },
    {
      "cell_type": "code",
      "source": [
        "    # Generator expression\n",
        "    squares_gen = (x * x for x in range(5))\n",
        "\n",
        "    # Using the generator expression\n",
        "    for square in squares_gen:\n",
        "        print(square)"
      ],
      "metadata": {
        "colab": {
          "base_uri": "https://localhost:8080/"
        },
        "id": "GVz2YJngkbWi",
        "outputId": "e005a49f-61fb-46c0-d817-315d53f1c45c"
      },
      "execution_count": 14,
      "outputs": [
        {
          "output_type": "stream",
          "name": "stdout",
          "text": [
            "0\n",
            "1\n",
            "4\n",
            "9\n",
            "16\n"
          ]
        }
      ]
    },
    {
      "cell_type": "markdown",
      "source": [
        "# 7. what are the advantages of using  generators over regular functions?\n",
        "\n",
        ". Generators offer advantages over regular functions through memory efficiency, lazy evaluation, and the ability to represent infinite sequences. By using the yield keyword to produce values one at a time, generators avoid storing large datasets in memory, making them suitable for large or infinite data streams and enabling more efficient data processing pipelines.\n",
        "\n",
        "Here are the key advantages:\n",
        "\n",
        ".Memory Efficiency: Generators produce values on-demand using yield, rather than creating a complete list in memory. This is crucial for handling large datasets or infinite sequences, as it avoids high memory consumption.\n",
        "\n",
        ".Lazy Evaluation: Values are computed only when requested, improving performance and reducing computational overhead when the entire dataset is not immediately needed.\n",
        "\n",
        ".Infinite Sequences: Generators can represent infinite streams of data, like the Fibonacci sequence, because they don't need to store all elements at once. They produce the next value in the sequence as needed.\n",
        "\n",
        ".Pipelining: Generators can be chained together to create efficient data processing pipelines. Each generator in the pipeline processes a segment of data, forwarding it to the next stage without holding the entire dataset in memory.\n",
        "\n",
        ".Simplified Code: For complex iteration logic, generators can offer cleaner and more straightforward syntax compared to writing traditional loops, enhancing code clarity.\n",
        "\n",
        ".Execution State Retention: Generator functions can pause their execution with yield and resume later, maintaining their internal state between calls. Regular functions, in contrast, complete their execution after returning a single value."
      ],
      "metadata": {
        "id": "O1sr92DBkf5C"
      }
    },
    {
      "cell_type": "markdown",
      "source": [
        "# 8. what is a lambda function in python and when is it typically used?\n",
        "\n",
        ". A lambda function in Python is a small, anonymous function defined using the lambda keyword. Unlike regular functions defined with def, lambda functions are typically used for short, one-time operations and do not require a formal name. They can take any number of arguments but are limited to a single expression, which is evaluated and returned."
      ],
      "metadata": {
        "id": "3qxyjZlPli1_"
      }
    },
    {
      "cell_type": "code",
      "source": [
        "lambda arguments: expression"
      ],
      "metadata": {
        "colab": {
          "base_uri": "https://localhost:8080/"
        },
        "id": "uczbURwumLB4",
        "outputId": "bc9a8229-d409-4340-b15e-da7afa6c31a2"
      },
      "execution_count": 15,
      "outputs": [
        {
          "output_type": "execute_result",
          "data": {
            "text/plain": [
              "<function __main__.<lambda>(arguments)>"
            ]
          },
          "metadata": {},
          "execution_count": 15
        }
      ]
    },
    {
      "cell_type": "markdown",
      "source": [
        " is it typically used:\n",
        "\n",
        "Lambda functions are commonly used in situations where a small, simple function is needed temporarily, often as an argument to higher-order functions. with higher-order functions.\n",
        "\n",
        "Lambda functions are frequently used with built-in functions like map(), filter(), and sorted(), which accept functions as arguments.\n",
        "map(): To apply a transformation to each element in an iterable."
      ],
      "metadata": {
        "id": "Y39OZ7DWmOeu"
      }
    },
    {
      "cell_type": "code",
      "source": [
        "        students = [('Alice', 20), ('Bob', 25), ('Charlie', 18)]\n",
        "        sorted_by_age = sorted(students, key=lambda student: student[1])\n",
        "        # sorted_by_age will be [('Charlie', 18), ('Alice', 20), ('Bob', 25)]"
      ],
      "metadata": {
        "id": "82rLm2EcmW31"
      },
      "execution_count": 17,
      "outputs": []
    },
    {
      "cell_type": "markdown",
      "source": [
        "# 9.Explain the purpose and usage of the 'map()' function in python?\n",
        "\n",
        ".The map() function in Python serves to apply a given function to each item in an iterable (such as a list, tuple, or set) and returns a map object, which is an iterator containing the results.\n",
        "\n",
        "Purpose:\n",
        "\n",
        "The primary purpose of map() is to efficiently transform data within an iterable by applying a consistent operation to every element. This allows for concise and often more readable code compared to explicit for loops, especially when dealing with large datasets or complex transformations. It embodies a functional programming paradigm by separating the data from the operation performed on it.\n",
        "\n",
        "Usage:\n",
        "The map() function takes at least two arguments:\n",
        "\n",
        "function: The function to be applied to each item. This can be a built-in function, a user-defined function, or an anonymous function (lambda function).\n",
        "\n",
        "iterable: One or more iterables whose elements will be passed to the function. If multiple iterables are provided, the function must accept a corresponding number of arguments."
      ],
      "metadata": {
        "id": "bzMMc0pmmd1E"
      }
    },
    {
      "cell_type": "code",
      "source": [
        "# Applying a user-defined function\n",
        "def square(number):\n",
        "    return number * number\n",
        "\n",
        "numbers = [1, 2, 3, 4, 5]\n",
        "squared_numbers_map = map(square, numbers)\n",
        "squared_numbers_list = list(squared_numbers_map) # Convert map object to a list\n",
        "print(squared_numbers_list)"
      ],
      "metadata": {
        "colab": {
          "base_uri": "https://localhost:8080/"
        },
        "id": "RuLg6TKroF-I",
        "outputId": "3eaf1d08-5f0a-4509-ce2c-a2b32ac5f72b"
      },
      "execution_count": 18,
      "outputs": [
        {
          "output_type": "stream",
          "name": "stdout",
          "text": [
            "[1, 4, 9, 16, 25]\n"
          ]
        }
      ]
    },
    {
      "cell_type": "code",
      "source": [
        "  #  With multiple iterables\n",
        "list1 = [1, 2, 3]\n",
        "list2 = [4, 5, 6]\n",
        "\n",
        "def add_elements(x, y):\n",
        "    return x + y\n",
        "\n",
        "summed_list = list(map(add_elements, list1, list2))\n",
        "print(summed_list)"
      ],
      "metadata": {
        "colab": {
          "base_uri": "https://localhost:8080/"
        },
        "id": "zGUCGY_moKNf",
        "outputId": "47efcc51-b730-45a1-fd40-e355c593066e"
      },
      "execution_count": 19,
      "outputs": [
        {
          "output_type": "stream",
          "name": "stdout",
          "text": [
            "[5, 7, 9]\n"
          ]
        }
      ]
    },
    {
      "cell_type": "markdown",
      "source": [
        "# 10. what is the different between 'map()', 'reduce()', and 'filter()' functionds in python?\n",
        "\n",
        ".The Python functions map(), filter(), and reduce() are all used for processing iterables but differ in their core purpose and output.\n",
        "\n",
        "map():\n",
        "Purpose: Applies a given function to each item in an iterable and returns a new iterable (a map object) containing the results. It transforms each element individually.\n",
        "Output: An iterable of the same length as the input, where each element is the result of applying the function to the corresponding input element.\n"
      ],
      "metadata": {
        "id": "SlXyr4SFof0v"
      }
    },
    {
      "cell_type": "code",
      "source": [
        "        numbers = [1, 2, 3, 4]\n",
        "        squared_numbers = list(map(lambda x: x * x, numbers))\n",
        "        # squared_numbers will be [1, 4, 9, 16]"
      ],
      "metadata": {
        "id": "eBle_xwnpLPs"
      },
      "execution_count": 20,
      "outputs": []
    },
    {
      "cell_type": "markdown",
      "source": [
        "filter():\n",
        "\n",
        "Purpose: Constructs a new iterable (a filter object) from elements of an existing iterable for which a given function returns True. It selectively includes elements based on a condition.\n",
        "\n",
        "Output: An iterable containing only the elements from the input iterable that satisfy the condition (the function returns True). The length of the output can be less than or equal to the input.\n"
      ],
      "metadata": {
        "id": "saTgHmIfpQZU"
      }
    },
    {
      "cell_type": "code",
      "source": [
        "        numbers = [1, 2, 3, 4, 5, 6]\n",
        "        even_numbers = list(filter(lambda x: x % 2 == 0, numbers))\n",
        "        # even_numbers will be [2, 4, 6]"
      ],
      "metadata": {
        "id": "nALH0Yf2pTz7"
      },
      "execution_count": 21,
      "outputs": []
    },
    {
      "cell_type": "markdown",
      "source": [
        "reduce():\n",
        "\n",
        "Purpose: Applies a function of two arguments cumulatively to the items of an iterable, from left to right, so as to reduce the iterable to a single value. It performs a \"rolling computation.\"\n",
        "\n",
        "Note: reduce() needs to be imported from the functools module: from functools import reduce.\n",
        "\n",
        "Output: A single, aggregated value"
      ],
      "metadata": {
        "id": "4A3rgu9cpY2j"
      }
    },
    {
      "cell_type": "code",
      "source": [
        "        from functools import reduce\n",
        "        numbers = [1, 2, 3, 4]\n",
        "        sum_of_numbers = reduce(lambda x, y: x + y, numbers)\n",
        "        # sum_of_numbers will be 10 (1+2=3, 3+3=6, 6+4=10)"
      ],
      "metadata": {
        "id": "uZZMmeSbpc3r"
      },
      "execution_count": 22,
      "outputs": []
    },
    {
      "cell_type": "markdown",
      "source": [
        "# 11. Using pen & paper write the internal mechanisn for sum operatin using reduce function on this given list[ 47,11,42,13].\n",
        "\n",
        ". The reduce function, often found in functional programming paradigms and available in Python's functools module, cumulatively applies a given function to the items of an iterable, reducing the iterable to a single value. When performing a sum operation, it works as follows for the list [47, 11, 42, 13]:"
      ],
      "metadata": {
        "id": "q3elgMjBplht"
      }
    },
    {
      "cell_type": "code",
      "metadata": {
        "colab": {
          "base_uri": "https://localhost:8080/"
        },
        "id": "4a7a930d",
        "outputId": "3c1a50b1-1a05-4a62-cf8e-3b5a9309f095"
      },
      "source": [
        "from functools import reduce\n",
        "\n",
        "numbers = [47, 11, 42, 13]\n",
        "sum_of_numbers = reduce(lambda x, y: x + y, numbers)\n",
        "print(sum_of_numbers)"
      ],
      "execution_count": 24,
      "outputs": [
        {
          "output_type": "stream",
          "name": "stdout",
          "text": [
            "113\n"
          ]
        }
      ]
    },
    {
      "cell_type": "markdown",
      "source": [
        "# Practices"
      ],
      "metadata": {
        "id": "hczICTTnq-o3"
      }
    },
    {
      "cell_type": "code",
      "source": [
        "#  1.write a python function that takes a list of numbers as input and returns the sum of all even numbers in the list?\n",
        "# python\n",
        "def sum_even_numbers(numbers):\n",
        "  \"\"\"\n",
        "  calculates the sum of all even numbers in a list of integers.\n",
        "  Args:\n",
        "  numbers: A list of integers.\n",
        "  Returns:\n",
        "  The sum of all even numbers in the list.\n",
        "  \"\"\"\n",
        "  total=0\n",
        "  for num in numbers:\n",
        "    if num % 2 == 0:\n",
        "      total += num\n",
        "  return total\n",
        "  #Example usage:\n",
        "  my_list=[1,2,3,4,5,6,7,8,9,10]\n",
        "  result=sum_even_numbers(my_list)\n",
        "  print(f\"The sum of even numbers  is:{sum_even_numbers(my_list)}\")\n"
      ],
      "metadata": {
        "id": "KDKNmtEMq9T2"
      },
      "execution_count": 36,
      "outputs": []
    },
    {
      "cell_type": "code",
      "source": [
        "# 2.Create a python function that accepts a string and returns the reverse of that string.\n",
        "#python\n",
        "\n",
        "def reverse_string(input_string):\n",
        "  \"\"\"\n",
        "  Reversed a given string .\n",
        "  Args:\n",
        "  input_string: The string to be reversed.\n",
        "  Returns:\n",
        "  The reversed string.\n",
        "  \"\"\"\n",
        "\n",
        "  return input_string[::-1]\n",
        " # Example usage:\n",
        "  original_string = \"Hello, World!\"\n",
        "  reversed_string = reverse_string(original_string)\n",
        "  print(reversed_str)"
      ],
      "metadata": {
        "id": "NEGZ28Gqsz-x"
      },
      "execution_count": 33,
      "outputs": []
    },
    {
      "cell_type": "code",
      "source": [
        "# 3.Implement a python function that takes a list of integers and returns a new list containing the squares of each number.\n",
        "\n",
        "def square_list(numbers):\n",
        "  \"\"\"\n",
        "  Take a list of integers and return a new list containing the squares of each number.\n",
        "  Args:\n",
        "  numbers: A list of integers.\n",
        "  Returns:\n",
        "  A new list containing the squares of each number.\n",
        "  \"\"\"\n",
        "  return [num** 2 for num in numbers]\n",
        "\n",
        "# Example usage\n",
        "original_list=[1,2,3,4,5]\n",
        "squared_list=square_list(original_list)\n",
        "print(f\"original list:{original_list}\")\n",
        "print(f\"squared list:{squared_list}\")"
      ],
      "metadata": {
        "colab": {
          "base_uri": "https://localhost:8080/"
        },
        "id": "SB0sO80Dv1Sh",
        "outputId": "13792d6d-a33c-4a19-a502-c3f96ae7c58c"
      },
      "execution_count": 44,
      "outputs": [
        {
          "output_type": "stream",
          "name": "stdout",
          "text": [
            "original list:[1, 2, 3, 4, 5]\n",
            "squared list:[1, 4, 9, 16, 25]\n"
          ]
        }
      ]
    },
    {
      "cell_type": "code",
      "source": [
        "# 4. write a python function that checks if a given number is prime or not from 1to200.\n",
        "\n",
        "def is_prime(num):\n",
        "  \"\"\"\n",
        "  Checks if a given number is a prime number.\n",
        "\n",
        "  Args:\n",
        "    num: An integer.\n",
        "\n",
        "  Returns:\n",
        "    True if the number is prime, False otherwise.\n",
        "  \"\"\"\n",
        "  if num <2:\n",
        "    return False\n",
        "  for i in range(2, int(num**0.5)+1):\n",
        "    if num% i==0:\n",
        "      return False\n",
        "  return True\n",
        "#Example uses (not part of the function, but demonstrates how to use it)\n",
        "for i in range (1,201):\n",
        "    if is_prime(i):\n",
        "        print(f\"{i} is a prime number\")\n",
        "    else:\n",
        "        print(f\"{i} is not a prime number\")"
      ],
      "metadata": {
        "colab": {
          "base_uri": "https://localhost:8080/"
        },
        "id": "fJaHDACF5OQr",
        "outputId": "8f03a726-d374-4e68-8e8c-c05d30fd4862"
      },
      "execution_count": 45,
      "outputs": [
        {
          "output_type": "stream",
          "name": "stdout",
          "text": [
            "1 is not a prime number\n",
            "2 is a prime number\n",
            "3 is a prime number\n",
            "4 is not a prime number\n",
            "5 is a prime number\n",
            "6 is not a prime number\n",
            "7 is a prime number\n",
            "8 is not a prime number\n",
            "9 is not a prime number\n",
            "10 is not a prime number\n",
            "11 is a prime number\n",
            "12 is not a prime number\n",
            "13 is a prime number\n",
            "14 is not a prime number\n",
            "15 is not a prime number\n",
            "16 is not a prime number\n",
            "17 is a prime number\n",
            "18 is not a prime number\n",
            "19 is a prime number\n",
            "20 is not a prime number\n",
            "21 is not a prime number\n",
            "22 is not a prime number\n",
            "23 is a prime number\n",
            "24 is not a prime number\n",
            "25 is not a prime number\n",
            "26 is not a prime number\n",
            "27 is not a prime number\n",
            "28 is not a prime number\n",
            "29 is a prime number\n",
            "30 is not a prime number\n",
            "31 is a prime number\n",
            "32 is not a prime number\n",
            "33 is not a prime number\n",
            "34 is not a prime number\n",
            "35 is not a prime number\n",
            "36 is not a prime number\n",
            "37 is a prime number\n",
            "38 is not a prime number\n",
            "39 is not a prime number\n",
            "40 is not a prime number\n",
            "41 is a prime number\n",
            "42 is not a prime number\n",
            "43 is a prime number\n",
            "44 is not a prime number\n",
            "45 is not a prime number\n",
            "46 is not a prime number\n",
            "47 is a prime number\n",
            "48 is not a prime number\n",
            "49 is not a prime number\n",
            "50 is not a prime number\n",
            "51 is not a prime number\n",
            "52 is not a prime number\n",
            "53 is a prime number\n",
            "54 is not a prime number\n",
            "55 is not a prime number\n",
            "56 is not a prime number\n",
            "57 is not a prime number\n",
            "58 is not a prime number\n",
            "59 is a prime number\n",
            "60 is not a prime number\n",
            "61 is a prime number\n",
            "62 is not a prime number\n",
            "63 is not a prime number\n",
            "64 is not a prime number\n",
            "65 is not a prime number\n",
            "66 is not a prime number\n",
            "67 is a prime number\n",
            "68 is not a prime number\n",
            "69 is not a prime number\n",
            "70 is not a prime number\n",
            "71 is a prime number\n",
            "72 is not a prime number\n",
            "73 is a prime number\n",
            "74 is not a prime number\n",
            "75 is not a prime number\n",
            "76 is not a prime number\n",
            "77 is not a prime number\n",
            "78 is not a prime number\n",
            "79 is a prime number\n",
            "80 is not a prime number\n",
            "81 is not a prime number\n",
            "82 is not a prime number\n",
            "83 is a prime number\n",
            "84 is not a prime number\n",
            "85 is not a prime number\n",
            "86 is not a prime number\n",
            "87 is not a prime number\n",
            "88 is not a prime number\n",
            "89 is a prime number\n",
            "90 is not a prime number\n",
            "91 is not a prime number\n",
            "92 is not a prime number\n",
            "93 is not a prime number\n",
            "94 is not a prime number\n",
            "95 is not a prime number\n",
            "96 is not a prime number\n",
            "97 is a prime number\n",
            "98 is not a prime number\n",
            "99 is not a prime number\n",
            "100 is not a prime number\n",
            "101 is a prime number\n",
            "102 is not a prime number\n",
            "103 is a prime number\n",
            "104 is not a prime number\n",
            "105 is not a prime number\n",
            "106 is not a prime number\n",
            "107 is a prime number\n",
            "108 is not a prime number\n",
            "109 is a prime number\n",
            "110 is not a prime number\n",
            "111 is not a prime number\n",
            "112 is not a prime number\n",
            "113 is a prime number\n",
            "114 is not a prime number\n",
            "115 is not a prime number\n",
            "116 is not a prime number\n",
            "117 is not a prime number\n",
            "118 is not a prime number\n",
            "119 is not a prime number\n",
            "120 is not a prime number\n",
            "121 is not a prime number\n",
            "122 is not a prime number\n",
            "123 is not a prime number\n",
            "124 is not a prime number\n",
            "125 is not a prime number\n",
            "126 is not a prime number\n",
            "127 is a prime number\n",
            "128 is not a prime number\n",
            "129 is not a prime number\n",
            "130 is not a prime number\n",
            "131 is a prime number\n",
            "132 is not a prime number\n",
            "133 is not a prime number\n",
            "134 is not a prime number\n",
            "135 is not a prime number\n",
            "136 is not a prime number\n",
            "137 is a prime number\n",
            "138 is not a prime number\n",
            "139 is a prime number\n",
            "140 is not a prime number\n",
            "141 is not a prime number\n",
            "142 is not a prime number\n",
            "143 is not a prime number\n",
            "144 is not a prime number\n",
            "145 is not a prime number\n",
            "146 is not a prime number\n",
            "147 is not a prime number\n",
            "148 is not a prime number\n",
            "149 is a prime number\n",
            "150 is not a prime number\n",
            "151 is a prime number\n",
            "152 is not a prime number\n",
            "153 is not a prime number\n",
            "154 is not a prime number\n",
            "155 is not a prime number\n",
            "156 is not a prime number\n",
            "157 is a prime number\n",
            "158 is not a prime number\n",
            "159 is not a prime number\n",
            "160 is not a prime number\n",
            "161 is not a prime number\n",
            "162 is not a prime number\n",
            "163 is a prime number\n",
            "164 is not a prime number\n",
            "165 is not a prime number\n",
            "166 is not a prime number\n",
            "167 is a prime number\n",
            "168 is not a prime number\n",
            "169 is not a prime number\n",
            "170 is not a prime number\n",
            "171 is not a prime number\n",
            "172 is not a prime number\n",
            "173 is a prime number\n",
            "174 is not a prime number\n",
            "175 is not a prime number\n",
            "176 is not a prime number\n",
            "177 is not a prime number\n",
            "178 is not a prime number\n",
            "179 is a prime number\n",
            "180 is not a prime number\n",
            "181 is a prime number\n",
            "182 is not a prime number\n",
            "183 is not a prime number\n",
            "184 is not a prime number\n",
            "185 is not a prime number\n",
            "186 is not a prime number\n",
            "187 is not a prime number\n",
            "188 is not a prime number\n",
            "189 is not a prime number\n",
            "190 is not a prime number\n",
            "191 is a prime number\n",
            "192 is not a prime number\n",
            "193 is a prime number\n",
            "194 is not a prime number\n",
            "195 is not a prime number\n",
            "196 is not a prime number\n",
            "197 is a prime number\n",
            "198 is not a prime number\n",
            "199 is a prime number\n",
            "200 is not a prime number\n"
          ]
        }
      ]
    },
    {
      "cell_type": "code",
      "metadata": {
        "colab": {
          "base_uri": "https://localhost:8080/"
        },
        "id": "d8a86e38",
        "outputId": "dc82e3dc-6172-45c3-87e6-44b56c4e01de"
      },
      "source": [
        "# 5. Create an iterator class in python that generates the fibonacci sequence up to a specified number of terms.\n",
        "# python\n",
        "\n",
        "# Example usage of FibonacciIterator\n",
        "fib_sequence = FibonacciIterator(10)\n",
        "\n",
        "print(\"The first 10 terms of the Fibonacci sequence:\")\n",
        "for number in fib_sequence:\n",
        "  print(number)\n",
        "\n",
        "# You can also access terms one by one using next()\n",
        "# Note: Once an iterator is exhausted, you need to create a new one.\n",
        "fib_sequence_manual = FibonacciIterator(5)\n",
        "print(\"\\nAccessing terms one by one:\")\n",
        "print(next(fib_sequence_manual))\n",
        "print(next(fib_sequence_manual))\n",
        "print(next(fib_sequence_manual))\n",
        "print(next(fib_sequence_manual))\n",
        "print(next(fib_sequence_manual))\n",
        "\n",
        "try:\n",
        "  print(next(fib_sequence_manual)) # This will raise StopIteration\n",
        "except StopIteration:\n",
        "  print(\"No more terms to generate.\")"
      ],
      "execution_count": 48,
      "outputs": [
        {
          "output_type": "stream",
          "name": "stdout",
          "text": [
            "The first 10 terms of the Fibonacci sequence:\n",
            "0\n",
            "1\n",
            "1\n",
            "2\n",
            "3\n",
            "5\n",
            "8\n",
            "13\n",
            "21\n",
            "34\n",
            "\n",
            "Accessing terms one by one:\n",
            "0\n",
            "1\n",
            "1\n",
            "2\n",
            "3\n",
            "No more terms to generate.\n"
          ]
        }
      ]
    },
    {
      "cell_type": "code",
      "source": [
        "# 6.write a generator function in python that yields the powers of 2 up to a given  exponent.\n",
        "#python\n",
        "\n",
        "def powers_of_two(exponent_limit):\n",
        "\n",
        "    for exponent in range(exponent_limit + 1):\n",
        "        yield 2 ** exponent\n",
        "\n",
        "\n",
        "# Example of how to use the generator function\n",
        "try:\n",
        "    limit = int(input(\"Enter the maximum exponent for powers of 2: \"))\n",
        "\n",
        "    if limit < 0:\n",
        "        print(\"Please enter a non-negative integer.\")\n",
        "    else:\n",
        "        print(f\"Powers of 2 up to exponent {limit}:\")\n",
        "\n",
        "        # Create a generator object by calling the function\n",
        "        powers_gen = powers_of_two(limit)\n",
        "\n",
        "        # Iterate over the generator to get each value\n",
        "        for power in powers_gen:\n",
        "            print(power)\n",
        "\n",
        "except ValueError:\n",
        "    print(\"Invalid input. Please enter an integer.\")\n",
        "\n"
      ],
      "metadata": {
        "colab": {
          "base_uri": "https://localhost:8080/"
        },
        "id": "EmferF5UDFWs",
        "outputId": "ee4a625b-6dc3-4bf1-f2e7-77883b825329"
      },
      "execution_count": 51,
      "outputs": [
        {
          "output_type": "stream",
          "name": "stdout",
          "text": [
            "Enter the maximum exponent for powers of 2: 2\n",
            "Powers of 2 up to exponent 2:\n",
            "1\n",
            "2\n",
            "4\n"
          ]
        }
      ]
    },
    {
      "cell_type": "code",
      "source": [
        "# 7. Implement  a generator functiom that reads a file line by line and yields each line as a string .\n",
        "#python\n",
        "\n",
        "import os\n",
        "\n",
        "def file_line_generator(filepath):\n",
        "\n",
        "    try:\n",
        "        with open(filepath, 'r', encoding='utf-8') as file:\n",
        "            for line in file:\n",
        "                yield line.strip()\n",
        "    except FileNotFoundError:\n",
        "        print(f\"Error: The file at {filepath} was not found.\")\n",
        "        raise\n",
        "    except IOError:\n",
        "        print(f\"Error: An I/O error occurred while reading the file at {filepath}.\")\n",
        "        raise\n",
        "\n",
        "# Example usage:\n",
        "# First, create a dummy file for demonstration\n",
        "file_name = \"sample.txt\"\n",
        "with open(file_name, \"w\", encoding='utf-8') as f:\n",
        "    f.write(\"First line of text.\\n\")\n",
        "    f.write(\"Second line, with more content.\\n\")\n",
        "    f.write(\"Third line, to be read.\\n\")\n",
        "    f.write(\"Fourth line, last one.\\n\")\n",
        "\n",
        "# Use the generator function in a for loop\n",
        "print(\"Reading file with the generator:\")\n",
        "for line in file_line_generator(file_name):\n",
        "    print(line)\n",
        "\n",
        "# Clean up the dummy file\n",
        "os.remove(file_name)\n",
        "\n",
        "# Example of handling a nonexistent file\n",
        "print(\"\\nAttempting to read a nonexistent file:\")\n",
        "try:\n",
        "    for line in file_line_generator(\"nonexistent.txt\"):\n",
        "        print(line)\n",
        "except FileNotFoundError:\n",
        "    print(\"Caught the FileNotFoundError as expected.\")"
      ],
      "metadata": {
        "colab": {
          "base_uri": "https://localhost:8080/"
        },
        "id": "JLXm2l-5EOtx",
        "outputId": "84a5c9e1-a181-4466-e643-e68ead42a3b8"
      },
      "execution_count": 52,
      "outputs": [
        {
          "output_type": "stream",
          "name": "stdout",
          "text": [
            "Reading file with the generator:\n",
            "First line of text.\n",
            "Second line, with more content.\n",
            "Third line, to be read.\n",
            "Fourth line, last one.\n",
            "\n",
            "Attempting to read a nonexistent file:\n",
            "Error: The file at nonexistent.txt was not found.\n",
            "Caught the FileNotFoundError as expected.\n"
          ]
        }
      ]
    },
    {
      "cell_type": "code",
      "source": [
        "# 8.use  a lambda  function in python to sort a list of tuples based on the second element of each tuple.\n",
        "\n",
        "# Initial list of tuples\n",
        "data = [('apple', 3), ('banana', 1), ('cherry', 5), ('date', 2)]\n",
        "\n",
        "# Sort the list of tuples based on the second element using sorted() and a lambda function\n",
        "# The lambda function `lambda x: x[1]` specifies that the sorting key is the element at index 1 of each tuple.\n",
        "sorted_data = sorted(data, key=lambda x: x[1])\n",
        "\n",
        "print(\"Original list:\", data)\n",
        "print(\"Sorted list (using sorted()):\", sorted_data)\n",
        "\n",
        "# Alternatively, sort the list in-place using the list.sort() method\n",
        "data.sort(key=lambda x: x[1])\n",
        "\n",
        "print(\"Sorted list (using list.sort() in-place):\", data)"
      ],
      "metadata": {
        "colab": {
          "base_uri": "https://localhost:8080/"
        },
        "id": "9_uCyfQnFhOF",
        "outputId": "4e8128ff-dc25-4d03-baeb-5a7ad0f186ed"
      },
      "execution_count": 53,
      "outputs": [
        {
          "output_type": "stream",
          "name": "stdout",
          "text": [
            "Original list: [('apple', 3), ('banana', 1), ('cherry', 5), ('date', 2)]\n",
            "Sorted list (using sorted()): [('banana', 1), ('date', 2), ('apple', 3), ('cherry', 5)]\n",
            "Sorted list (using list.sort() in-place): [('banana', 1), ('date', 2), ('apple', 3), ('cherry', 5)]\n"
          ]
        }
      ]
    },
    {
      "cell_type": "code",
      "source": [
        "# 9. write a python program that uses'map()' to convert a list of temperatures from celsius to fahrenheit.\n",
        "#python\n",
        "\n",
        "def celsius_to_fahrenheit(celsius):\n",
        "  \"\"\"Converts a temperature from Celsius to Fahrenheit.\"\"\"\n",
        "  return (celsius * 9/5) + 32\n",
        "\n",
        "# List of temperatures in Celsius\n",
        "celsius_temperatures = [0, 10, 20, 30, 40, 100]\n",
        "\n",
        "# Use map() to apply the conversion function to each temperature in the list\n",
        "fahrenheit_temperatures_map_object = map(celsius_to_fahrenheit, celsius_temperatures)\n",
        "\n",
        "# Convert the map object to a list to view the results\n",
        "fahrenheit_temperatures = list(fahrenheit_temperatures_map_object)\n",
        "\n",
        "# Print the original and converted temperatures\n",
        "print(f\"Celsius temperatures: {celsius_temperatures}\")\n",
        "print(f\"Fahrenheit temperatures: {fahrenheit_temperatures}\")"
      ],
      "metadata": {
        "colab": {
          "base_uri": "https://localhost:8080/"
        },
        "id": "tR9aWIFkGVgS",
        "outputId": "488ccd0b-f7f4-4363-bb13-eb7e622574e8"
      },
      "execution_count": 54,
      "outputs": [
        {
          "output_type": "stream",
          "name": "stdout",
          "text": [
            "Celsius temperatures: [0, 10, 20, 30, 40, 100]\n",
            "Fahrenheit temperatures: [32.0, 50.0, 68.0, 86.0, 104.0, 212.0]\n"
          ]
        }
      ]
    },
    {
      "cell_type": "code",
      "source": [
        "# 10.Create a python program that uses 'filter()' to remove all the vowels from a given string.\n",
        "#python\n",
        "\n",
        "def remove_vowels_filter(input_string):\n",
        "    \"\"\"\n",
        "    Removes all vowels from a string using the filter() function.\n",
        "    \"\"\"\n",
        "    # Define a string containing all vowels, both lowercase and uppercase.\n",
        "    vowels = \"aeiouAEIOU\"\n",
        "\n",
        "    # Use a lambda function with filter() to keep characters that are NOT vowels.\n",
        "    # The filter() function returns an iterator of the filtered characters.\n",
        "    filtered_chars = filter(lambda char: char not in vowels, input_string)\n",
        "\n",
        "    # Join the filtered characters to form the final string.\n",
        "    return \"\".join(filtered_chars)\n",
        "\n",
        "# Example usage\n",
        "original_string = \"Hello World! This is a Python program.\"\n",
        "result_string = remove_vowels_filter(original_string)\n",
        "\n",
        "print(f\"Original string: {original_string}\")\n",
        "print(f\"String with vowels removed: {result_string}\")\n",
        "\n"
      ],
      "metadata": {
        "colab": {
          "base_uri": "https://localhost:8080/"
        },
        "id": "0-CCF3RDHG4g",
        "outputId": "2fbc7779-1e0d-4108-c93a-4212670a6dcd"
      },
      "execution_count": 55,
      "outputs": [
        {
          "output_type": "stream",
          "name": "stdout",
          "text": [
            "Original string: Hello World! This is a Python program.\n",
            "String with vowels removed: Hll Wrld! Ths s  Pythn prgrm.\n"
          ]
        }
      ]
    },
    {
      "cell_type": "code",
      "source": [
        "\n",
        "\"\"\"11. imagine an accounting routine used in a book shop.  It works on a list with sublists , which look like this:\n",
        "order Number    Book Title and Author            Quantity       price per Items\n",
        "34587            Learning python,Mark Lutz          4               40.95\n",
        "98762            Programming python,Mark Lutz       5               56.80\n",
        "77226            Head First python, Paul Barry      3               32.95\n",
        "88112            Einfuhrung in python3, Bernd Klein 3               24.99\n",
        "\n",
        "write a python program, which returns a list with 2-tuples . Each tuple consists of the order number and the product of the price per item and the quantity.\n",
        "The product should be increased by 10,-c if the value of the order is smaller than 100,00€.\n",
        "write a python program using lambda and map functions.\n",
        "\n",
        "\"\"\"\n",
        "#python\n",
        "\n",
        "orders = [\n",
        "    [\"34587\", \"Learning python,Mark Lutz\", 4, 40.95],\n",
        "    [\"98762\", \"Programming python,Mark Lutz\", 5, 56.80],\n",
        "    [\"77226\", \"Head First python, Paul Barry\", 3, 32.95],\n",
        "    [\"88112\", \"Einfuhrung in python3, Bernd Klein\", 3, 24.99]\n",
        "]\n",
        "\n",
        "# Use map and a lambda function to calculate the total for each order\n",
        "# The lambda function takes an order (sublist) as input.\n",
        "# It calculates the total (price * quantity).\n",
        "# If the total is less than 100, it adds 10 to it.\n",
        "# Finally, it returns a tuple containing the order number and the calculated total.\n",
        "processed_orders = list(map(lambda order:\n",
        "    (order[0], (order[2] * order[3]) + (10 if (order[2] * order[3]) < 100 else 0)), orders))\n",
        "\n",
        "print(processed_orders)\n"
      ],
      "metadata": {
        "colab": {
          "base_uri": "https://localhost:8080/"
        },
        "id": "qtn2ZfX1H2U9",
        "outputId": "48356400-68d1-44e8-a27f-ed3a606fbcae"
      },
      "execution_count": 56,
      "outputs": [
        {
          "output_type": "stream",
          "name": "stdout",
          "text": [
            "[('34587', 163.8), ('98762', 284.0), ('77226', 108.85000000000001), ('88112', 84.97)]\n"
          ]
        }
      ]
    }
  ]
}